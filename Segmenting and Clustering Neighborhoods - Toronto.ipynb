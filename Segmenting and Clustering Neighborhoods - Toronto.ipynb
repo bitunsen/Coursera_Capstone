{
    "cells": [
        {
            "cell_type": "markdown",
            "metadata": {
                "collapsed": true
            },
            "source": "# Segmenting and Clustering Neighborhoods in Toronto"
        },
        {
            "cell_type": "markdown",
            "metadata": {},
            "source": "In this assignment, we will perform the below activities:\n  - Data Collection\n  - Data formatting\n  - Data Normalization\n  - Clustering\n    "
        },
        {
            "cell_type": "markdown",
            "metadata": {},
            "source": "## Data Collection"
        },
        {
            "cell_type": "markdown",
            "metadata": {},
            "source": "I will collect the data from Wikipedia using the below URL\n    - https://en.wikipedia.org/wiki/List_of_postal_codes_of_Canada:_M\n\nAll the Postal Codes will be considered, except the ones which are not yet assigned.\n\nTo extract the necessary data from this website, I will need to use some web scapping activities. I will use Python's beautifulsoup4 package to do the web scrapping. \n\n"
        },
        {
            "cell_type": "markdown",
            "metadata": {},
            "source": "### Import necessary packages"
        },
        {
            "cell_type": "code",
            "execution_count": 5,
            "metadata": {},
            "outputs": [],
            "source": "import pandas as pd\nimport numpy as np\nimport requests\nfrom bs4 import BeautifulSoup\nfrom collections import OrderedDict\nimport geocoder"
        },
        {
            "cell_type": "markdown",
            "metadata": {},
            "source": "## Web Scapping\n\nRetrieve the complete page content first"
        },
        {
            "cell_type": "code",
            "execution_count": 6,
            "metadata": {},
            "outputs": [],
            "source": "URL = 'https://en.wikipedia.org/wiki/List_of_postal_codes_of_Canada:_M'\npage = requests.get(URL)"
        },
        {
            "cell_type": "markdown",
            "metadata": {},
            "source": "## Create dataframe of cordinates from the given CSV file\n\nAt first I tried to use the geocoder API to get the coordinates. goecoder API was going non-responsive.\n\nAfter trying couple of times with the geocoder api to retrieve the coordinates, I have decided to use the CSV file present in the below URL to get the coordinates:\n    - https://cocl.us/Geospatial_data/Geospatial_Coordinates.csv\n\n\nRead the CSV from the URL using Panda's read_csv method"
        },
        {
            "cell_type": "code",
            "execution_count": 9,
            "metadata": {},
            "outputs": [
                {
                    "data": {
                        "text/html": "<div>\n<style scoped>\n    .dataframe tbody tr th:only-of-type {\n        vertical-align: middle;\n    }\n\n    .dataframe tbody tr th {\n        vertical-align: top;\n    }\n\n    .dataframe thead th {\n        text-align: right;\n    }\n</style>\n<table border=\"1\" class=\"dataframe\">\n  <thead>\n    <tr style=\"text-align: right;\">\n      <th></th>\n      <th>Postal Code</th>\n      <th>Latitude</th>\n      <th>Longitude</th>\n    </tr>\n  </thead>\n  <tbody>\n    <tr>\n      <th>0</th>\n      <td>M1B</td>\n      <td>43.806686</td>\n      <td>-79.194353</td>\n    </tr>\n    <tr>\n      <th>1</th>\n      <td>M1C</td>\n      <td>43.784535</td>\n      <td>-79.160497</td>\n    </tr>\n    <tr>\n      <th>2</th>\n      <td>M1E</td>\n      <td>43.763573</td>\n      <td>-79.188711</td>\n    </tr>\n    <tr>\n      <th>3</th>\n      <td>M1G</td>\n      <td>43.770992</td>\n      <td>-79.216917</td>\n    </tr>\n    <tr>\n      <th>4</th>\n      <td>M1H</td>\n      <td>43.773136</td>\n      <td>-79.239476</td>\n    </tr>\n  </tbody>\n</table>\n</div>",
                        "text/plain": "  Postal Code   Latitude  Longitude\n0         M1B  43.806686 -79.194353\n1         M1C  43.784535 -79.160497\n2         M1E  43.763573 -79.188711\n3         M1G  43.770992 -79.216917\n4         M1H  43.773136 -79.239476"
                    },
                    "execution_count": 9,
                    "metadata": {},
                    "output_type": "execute_result"
                }
            ],
            "source": "cord_df = pd.read_csv(\"https://cocl.us/Geospatial_data/Geospatial_Coordinates.csv\")\ncord_df.head()"
        },
        {
            "cell_type": "markdown",
            "metadata": {},
            "source": "### Write an utility method to get the coordinates from the above dataframe.\nThis method will take the Toronto postal code and return the tuple of latitude and longitude "
        },
        {
            "cell_type": "code",
            "execution_count": 10,
            "metadata": {},
            "outputs": [],
            "source": "def getCoordinatesFromCSVData(postal_code):\n    temp_df = cord_df.loc[cord_df['Postal Code'] == postal_code]\n    latitude = temp_df[\"Latitude\"].values[0]\n    longitude = temp_df[\"Longitude\"].values[0]\n    return latitude, longitude"
        },
        {
            "cell_type": "markdown",
            "metadata": {},
            "source": "Now our utility method getCoordinatesFromCSVData is ready. Now we can start extracting the data to build the required dataframe.\n\nWe will use BeautifulSoup's APIs to parse the html components and extract the data from the required component.\n\nWe will need to point the table which is holding the Postal Code information.\n\nIn many cells (the content of span component) the values are not standard\n - Some of the Postal Code is not assigned to any borough. Those need to be ignored\n - Parenthesis is not properly maintained\n - For some neighborhood names, <br/> is present between 2 words\nAll these need to be cleaned to collect the list of neighborhoods for each Postal Code\n\nOnce the data is cleaned up, then for each postal code:\n - Call the getCoordinatesFromCSVData() method to collect the latitude and longitude\n - Get the name of the borough\n - Get the list of neighborhoods\n - Create an Ordered Dictionary for the Postal code specific data and append into an array\n \nPlease note: I had to use the Ordered Dictionary, because, the order of the columns in the target DataFrame were not in desired order.\n\nAt the last, convert the whole array to Panda's dataframe for the desired result."
        },
        {
            "cell_type": "code",
            "execution_count": 13,
            "metadata": {},
            "outputs": [
                {
                    "data": {
                        "text/html": "<div>\n<style scoped>\n    .dataframe tbody tr th:only-of-type {\n        vertical-align: middle;\n    }\n\n    .dataframe tbody tr th {\n        vertical-align: top;\n    }\n\n    .dataframe thead th {\n        text-align: right;\n    }\n</style>\n<table border=\"1\" class=\"dataframe\">\n  <thead>\n    <tr style=\"text-align: right;\">\n      <th></th>\n      <th>PostalCode</th>\n      <th>Borough</th>\n      <th>Neighborhood</th>\n      <th>Latitude</th>\n      <th>Longitude</th>\n    </tr>\n  </thead>\n  <tbody>\n    <tr>\n      <th>0</th>\n      <td>M3A</td>\n      <td>North York</td>\n      <td>Parkwoods</td>\n      <td>43.753259</td>\n      <td>-79.329656</td>\n    </tr>\n    <tr>\n      <th>1</th>\n      <td>M4A</td>\n      <td>North York</td>\n      <td>Victoria Village</td>\n      <td>43.725882</td>\n      <td>-79.315572</td>\n    </tr>\n    <tr>\n      <th>2</th>\n      <td>M5A</td>\n      <td>Downtown Toronto</td>\n      <td>Regent Park, Harbourfront</td>\n      <td>43.654260</td>\n      <td>-79.360636</td>\n    </tr>\n    <tr>\n      <th>3</th>\n      <td>M6A</td>\n      <td>North York</td>\n      <td>Lawrence Manor, Lawrence Heights</td>\n      <td>43.718518</td>\n      <td>-79.464763</td>\n    </tr>\n    <tr>\n      <th>4</th>\n      <td>M7A</td>\n      <td>Queen's Park</td>\n      <td>Ontario Provincial Government</td>\n      <td>43.662301</td>\n      <td>-79.389494</td>\n    </tr>\n  </tbody>\n</table>\n</div>",
                        "text/plain": "  PostalCode           Borough                      Neighborhood   Latitude  \\\n0        M3A        North York                         Parkwoods  43.753259   \n1        M4A        North York                  Victoria Village  43.725882   \n2        M5A  Downtown Toronto         Regent Park, Harbourfront  43.654260   \n3        M6A        North York  Lawrence Manor, Lawrence Heights  43.718518   \n4        M7A      Queen's Park     Ontario Provincial Government  43.662301   \n\n   Longitude  \n0 -79.329656  \n1 -79.315572  \n2 -79.360636  \n3 -79.464763  \n4 -79.389494  "
                    },
                    "execution_count": 13,
                    "metadata": {},
                    "output_type": "execute_result"
                }
            ],
            "source": "soup = BeautifulSoup(page.content, 'html.parser')\ntemp_toronto_data = []\n\ntables = soup.find_all('table', {'rules': 'all'})\nfor table in tables:\n    tbody = table.find('tbody')\n    trs = tbody.find_all('tr')\n    for tr in trs:\n        tds = tr.find_all('td')\n        for td in tds:\n            para = td.find('p')\n            b_tag = para.find('b')\n            zipCode = b_tag.get_text()\n            span_tag = para.find('span')\n            span_tag_text = str(span_tag).replace(\"<br/>\", \"####\", 1)\n            span_tag_text = span_tag_text.replace(\"<br/>\", \"|||||\")\n            #print(span_tag_text)\n            span_tag = BeautifulSoup(span_tag_text, 'html.parser')\n            \n            if \"Not assigned\" not in span_tag.get_text():\n                span_tag_text = span_tag.text\n                span_tag_text = span_tag_text.replace('(', '')\n                span_tag_text = span_tag_text.replace(')', '')\n                span_tag_text = span_tag_text.replace('/', ',')\n                info_array = span_tag_text.split(\"####\")\n                borough = info_array[0]\n                temp_neighbors = info_array[1]\n                temp_neighbors = temp_neighbors.replace(\"Downsview|||||\", \"Downsview \")\n                temp_neighbors = temp_neighbors.replace(\"Don Mills|||||\", \"Don Mills \") \n                temp_neighbors = temp_neighbors.replace(\"Willowdale|||||\", \"Willowdale \")\n                temp_neighbors = temp_neighbors.replace(\"Northwest|||||Clairville\", \"Northwest Clairville\") \n                temp_neighbors = temp_neighbors.replace(\"Danforth ||||| East\", \"Danforth East\") \n                temp_neighbors = temp_neighbors.replace(\"|||||\", ',')\n                temp_neighbors = temp_neighbors.replace(\" ,\", ',')\n                if temp_neighbors.startswith(\",\"):\n                    temp_neighbors = temp_neighbors.replace(\",\", '', 1).strip()\n                #print(\"PostalCode \" + zipCode + \" is assigned to Borough : [\" + borough + \"] Neighborhoods : [\" + temp_neighbors + \"]\")\n                latitude, longitude = getCoordinatesFromCSVData(zipCode)\n                temp_toronto_data.append(OrderedDict({\n                    \"PostalCode\" : zipCode, \"Borough\" : borough, \"Neighborhood\" : temp_neighbors, \"Latitude\" : latitude, \"Longitude\" : longitude\n                }))\n                \n                \n\n\ntoronto_df = pd.DataFrame(temp_toronto_data)\ntoronto_df.head(5)"
        },
        {
            "cell_type": "code",
            "execution_count": 14,
            "metadata": {},
            "outputs": [
                {
                    "data": {
                        "text/plain": "(103, 5)"
                    },
                    "execution_count": 14,
                    "metadata": {},
                    "output_type": "execute_result"
                }
            ],
            "source": "toronto_df.shape"
        },
        {
            "cell_type": "code",
            "execution_count": null,
            "metadata": {},
            "outputs": [],
            "source": ""
        }
    ],
    "metadata": {
        "kernelspec": {
            "display_name": "Python 3.6",
            "language": "python",
            "name": "python3"
        },
        "language_info": {
            "codemirror_mode": {
                "name": "ipython",
                "version": 3
            },
            "file_extension": ".py",
            "mimetype": "text/x-python",
            "name": "python",
            "nbconvert_exporter": "python",
            "pygments_lexer": "ipython3",
            "version": "3.6.9"
        }
    },
    "nbformat": 4,
    "nbformat_minor": 1
}