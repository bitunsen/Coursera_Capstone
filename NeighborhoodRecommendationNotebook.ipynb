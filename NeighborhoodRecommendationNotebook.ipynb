{
    "cells": [
        {
            "cell_type": "markdown",
            "metadata": {},
            "source": "# The Battle of Neighborhoods"
        },
        {
            "attachments": {},
            "cell_type": "markdown",
            "metadata": {
                "collapsed": true
            },
            "source": "## Introduction\n\nIn the era of globalization, people moves a lot looking for better life and better work opportunities. Sometimes, this move becomes very hectic when it is to a completely unknown country or place. We people always have our own preference which might not match with other person. For example, my brother. He lives in India and works for a major US based IT firm. His company got a very good project to be executed for a client based out of Toronto, Canada. So my brother's company wants him to move to Toronto, Canada. \n\nThis is the first time, my brother is moving outside of India and is completely confused in selecting the neighborhood for his staying. After doing almost a month's research, he reached out to me to help him out in selecting or recommending the neighborhood which will be best for him to stay.\n\nWhen I started enquiring about his preferences, he came up with the following to be used as selection criteria:\n \n - Safe Neighborhood\n - Transportation - Metro Station, Bus Station\n - Breakfast places\n - Coffee Shops\n - Restaurants (Indian, Italian, Thai and American)\n - Shopping Center\n - Selected Bars - Sports Bar, Cocktail Bar, Pub\n - Outdoor Activity Center - Playground, Park\n \nWith these criteria provided by my brother, I would like to recommend to my brother which neighborhood of Toronto, Canada will be good for his living. The basis of this work will help the people like my brother to find their kind of neighborhood considering their preferences in mind. \n\n"
        },
        {
            "attachments": {},
            "cell_type": "markdown",
            "metadata": {},
            "source": "# Data Sources\n\n### Neighborhood Data Source:\nIn Toronto, there are total 140 neighborhoods. To get the list of these neighborhood and their boundary information, I will be using the data from the below URL:\n\thttp://data.torontopolice.on.ca/datasets/neighbourhood-crime-rates-boundary-file-\nThe data available in this page holds the below information:\n\t- Name of the neighborhood\n\t- Geometric information about the neighborhood (coordinates of the boundary)\n\t- Average crime rate for specific crimes till 2018.\n\nI will use an Open Data Portal based API to access this data. The API RUL is : https://opendata.arcgis.com/datasets/af500b5abb7240399853b35a2362d0c0_0.geojson  \n\nFrom this dataset, I will use only the name of neighborhood, the boundary coordinates. Crime data will be skipped due to old information (data till 2018). This dataset has the boundary coordinates of each neighborhood, which is not suitable for getting the venues. As, the boundary coordinates are nothing but the coordinates of a polygon, that is why using the boundary coordinates, I have calculated the centroids of all the neighborhood and assigned them as centroid coordinates of each neighborhood. \n\n### Crime Data:\nBasically Toronto is one of the safest place in the world, but in recent years, crime has started rising in some of the neighborhoods. We will use the crime incident data published by Toronto Police Department. This data set captured all the major crime reports since 2014 covering for all the 140 neighborhoods. The URL is: http://data.torontopolice.on.ca/datasets/mci-2014-to-2019. \n\nI have used the API exposed by Open Data Portal to access this data programmatically. The service URL is: https://opendata.arcgis.com/datasets/f4c2e5de021f4836a3caf77f8421f487_0.geojson. This dataset also contains the coordinates of all the places of the incidents. These coordinate information is not relevant here, so I will ignore those information.\n\nIn this dataset, the name of the neighborhood was having some additional information (HOOD ID, some number related to Toronto police data), which I had to strip it out so that both the neighborhood dataset and crime dataset\ncan have same neighborhood name.\n\nAs safety is his one of the priority, rather than considering all the 140 neighborhoods, I will take first 100 lowest crime based neighborhood.\n\nFoursquare Venue data:\nMy brother has shared his preferred venues which he wants near to his future place of residence. It is quite possible that all venues might not be available at all neighborhood. To collect the list of preferred venues, I will be using the category hierarchy list to identify the categoryId of each preferred categories to filter out the non-preferred venues. The link for the Foursquare category list is below:\n\thttps://developer.foursquare.com/docs/build-with-foursquare/categories/\n\t\nGoing through this page, at first I will collect all the nearest and closest categoryIds for all the preferred facilities my brother is looking for. Then I will use the Foursquare API for searching the venues by passing all these categoryIds. \n\nWe will use clustering technique to group the neighborhoods based on their availability near to each neighborhood and then come up with the recommendations. \n"
        },
        {
            "cell_type": "code",
            "execution_count": null,
            "metadata": {},
            "outputs": [],
            "source": ""
        }
    ],
    "metadata": {
        "kernelspec": {
            "display_name": "Python 3.6",
            "language": "python",
            "name": "python3"
        },
        "language_info": {
            "codemirror_mode": {
                "name": "ipython",
                "version": 3
            },
            "file_extension": ".py",
            "mimetype": "text/x-python",
            "name": "python",
            "nbconvert_exporter": "python",
            "pygments_lexer": "ipython3",
            "version": "3.6.9"
        }
    },
    "nbformat": 4,
    "nbformat_minor": 1
}